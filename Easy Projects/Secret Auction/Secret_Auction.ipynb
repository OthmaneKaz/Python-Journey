{
 "cells": [
  {
   "cell_type": "code",
   "execution_count": 23,
   "id": "21c81cc6",
   "metadata": {},
   "outputs": [
    {
     "name": "stdout",
     "output_type": "stream",
     "text": [
      "Do you want to bid, Yes or No? :yes\n",
      "Enter you name :othmane\n",
      "Enter Bid Ammount :20\n",
      "Do you want to bid, Yes or No? :yes\n",
      "Enter you name :rachid\n",
      "Enter Bid Ammount :20\n",
      "there is a bid with same ammount already please enter another ammount\n",
      "Enter Bid Ammount :20\n",
      "there is a bid with same ammount already please enter another ammount\n",
      "Enter Bid Ammount :20\n",
      "there is a bid with same ammount already please enter another ammount\n",
      "Enter Bid Ammount :21\n",
      "Do you want to bid, Yes or No? :no\n",
      "the winner is : rachid\n"
     ]
    }
   ],
   "source": [
    "auction_dict = {}\n",
    "state = True\n",
    "while state:\n",
    "    mode = input(\"Do you want to bid, Yes or No? :\").lower()\n",
    "    if mode == \"yes\":\n",
    "        name = input(\"Enter you name :\").lower()\n",
    "        ammount = int(input(\"Enter Bid Ammount :\"))\n",
    "        state_2 = True\n",
    "        while state_2:\n",
    "            if ammount in auction_dict.values():\n",
    "                print(\"there is a bid with same ammount already please enter another ammount\")\n",
    "                ammount = int(input(\"Enter Bid Ammount :\"))\n",
    "            else:\n",
    "                auction_dict[name] = ammount\n",
    "                state_2 = False\n",
    "    else:\n",
    "        state = False\n",
    "winner_bid = max(auction_dict.values())\n",
    "winner = list(auction_dict.keys())[list(auction_dict.values()).index(winner_bid)]\n",
    "print(\"the winner is :\", winner)"
   ]
  },
  {
   "cell_type": "code",
   "execution_count": null,
   "id": "74fd4151",
   "metadata": {},
   "outputs": [],
   "source": []
  }
 ],
 "metadata": {
  "kernelspec": {
   "display_name": "Python 3 (ipykernel)",
   "language": "python",
   "name": "python3"
  },
  "language_info": {
   "codemirror_mode": {
    "name": "ipython",
    "version": 3
   },
   "file_extension": ".py",
   "mimetype": "text/x-python",
   "name": "python",
   "nbconvert_exporter": "python",
   "pygments_lexer": "ipython3",
   "version": "3.9.12"
  }
 },
 "nbformat": 4,
 "nbformat_minor": 5
}
