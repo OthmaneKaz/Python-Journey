{
 "cells": [
  {
   "cell_type": "code",
   "execution_count": 28,
   "id": "dbcf9f7a",
   "metadata": {},
   "outputs": [],
   "source": [
    "def total(player):\n",
    "    for card in player:\n",
    "        total += card\n",
    "def showcards(player):\n",
    "    print(\"Your cards are :\",player)"
   ]
  },
  {
   "cell_type": "code",
   "execution_count": 29,
   "id": "64a937d0",
   "metadata": {},
   "outputs": [],
   "source": [
    "from random import *\n",
    "def add_card(player):\n",
    "    player.append(randint(1,12))"
   ]
  },
  {
   "cell_type": "code",
   "execution_count": 30,
   "id": "e5b17d0e",
   "metadata": {},
   "outputs": [
    {
     "name": "stdout",
     "output_type": "stream",
     "text": [
      "Welcome to blackjack!\n",
      "you cards are : [12, 1]\n"
     ]
    }
   ],
   "source": [
    "print(\"Welcome to blackjack!\")\n",
    "total = 0\n",
    "player_cards = []\n",
    "computer_cards = []\n",
    "computer_cards.append(randint(1,12))\n",
    "computer_cards.append(randint(1,12))\n",
    "state = True\n",
    "while state:\n",
    "    add_card(player_cards)\n",
    "    add_card(player_cards)\n",
    "    showcards(player_cards)\n",
    "    print(\"Computer's Cards :\", computer_cards)\n",
    "    total(player_cards)\n",
    "    tota\n",
    "    while total < 21:\n",
    "        print(\"Draw another card!\")\n",
    "        add_card(player_cards)\n",
    "    print(\"You Lose!\")\n",
    "    state = False"
   ]
  },
  {
   "cell_type": "code",
   "execution_count": null,
   "id": "ca84bcda",
   "metadata": {},
   "outputs": [],
   "source": []
  }
 ],
 "metadata": {
  "kernelspec": {
   "display_name": "Python 3 (ipykernel)",
   "language": "python",
   "name": "python3"
  },
  "language_info": {
   "codemirror_mode": {
    "name": "ipython",
    "version": 3
   },
   "file_extension": ".py",
   "mimetype": "text/x-python",
   "name": "python",
   "nbconvert_exporter": "python",
   "pygments_lexer": "ipython3",
   "version": "3.9.12"
  }
 },
 "nbformat": 4,
 "nbformat_minor": 5
}
