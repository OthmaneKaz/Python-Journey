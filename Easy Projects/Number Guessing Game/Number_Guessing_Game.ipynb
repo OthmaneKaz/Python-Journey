{
 "cells": [
  {
   "cell_type": "code",
   "execution_count": 1,
   "id": "6b971ed5",
   "metadata": {},
   "outputs": [
    {
     "name": "stdout",
     "output_type": "stream",
     "text": [
      "56\n",
      "Welcome to the Number Guessing Game\n",
      "Choose Dificulty 'easy'/ 'medium' / 'hard' :easy\n",
      "Enter your Guess :4\n",
      "Too low!\n",
      "Enter your Guess :56\n",
      "You win!\n"
     ]
    }
   ],
   "source": [
    "from random import *\n",
    "state1 = True\n",
    "tries = 0\n",
    "while state1:\n",
    "    number = randint(1, 100)\n",
    "    print(number)\n",
    "    print(\"Welcome to the Number Guessing Game\")\n",
    "    state2 = True\n",
    "    while state2:\n",
    "        level = input(\"Choose Dificulty 'easy'/ 'medium' / 'hard' :\").lower()\n",
    "        if level == \"easy\":\n",
    "            tries = 15\n",
    "            state2 = False\n",
    "        elif level == \"medium\":\n",
    "            tries = 10\n",
    "            state2 = False\n",
    "        elif level == \"hard\":\n",
    "            tries = 5\n",
    "            state2 = False\n",
    "        else:\n",
    "            print(\"please enter valid dificulty\")\n",
    "    state3 = True\n",
    "    while state3:\n",
    "        if tries == 0:\n",
    "            print(\"You lose!\")\n",
    "            state3 = False\n",
    "            state1 = False\n",
    "            break\n",
    "        guess = int(input(\"Enter your Guess :\"))\n",
    "        if guess == number:\n",
    "            print(\"You win!\")\n",
    "            state3 = False\n",
    "            state1 = False\n",
    "        elif guess < number:\n",
    "            print(\"Too low!\")\n",
    "            tries -= 1\n",
    "        elif guess > number:\n",
    "            print(\"Too high!\")\n",
    "            tries -= 1     "
   ]
  },
  {
   "cell_type": "code",
   "execution_count": null,
   "id": "fc3564f0",
   "metadata": {},
   "outputs": [],
   "source": []
  }
 ],
 "metadata": {
  "kernelspec": {
   "display_name": "Python 3 (ipykernel)",
   "language": "python",
   "name": "python3"
  },
  "language_info": {
   "codemirror_mode": {
    "name": "ipython",
    "version": 3
   },
   "file_extension": ".py",
   "mimetype": "text/x-python",
   "name": "python",
   "nbconvert_exporter": "python",
   "pygments_lexer": "ipython3",
   "version": "3.9.12"
  }
 },
 "nbformat": 4,
 "nbformat_minor": 5
}
