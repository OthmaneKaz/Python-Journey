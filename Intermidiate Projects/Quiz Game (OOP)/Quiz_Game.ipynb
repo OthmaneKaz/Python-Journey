{
 "cells": [
  {
   "cell_type": "code",
   "execution_count": 1,
   "id": "b0576367",
   "metadata": {},
   "outputs": [],
   "source": [
    "from question_model import Question\n",
    "from data import question_data\n",
    "from quiz_brain import QuizBrain"
   ]
  },
  {
   "cell_type": "code",
   "execution_count": null,
   "id": "940907bd",
   "metadata": {},
   "outputs": [],
   "source": [
    "QuestionBank = []\n",
    "\n",
    "for question in question_data:\n",
    "    question_text = question[\"text\"]\n",
    "    question_answer = question[\"answer\"]\n",
    "    new_question = Question(question_text,question_answer)\n",
    "    QuestionBank.append(new_question)\n",
    "\n",
    "quiz = QuizBrain(QuestionBank)\n",
    "\n",
    "while quiz.still_has_questions():\n",
    "    quiz.next_question()\n",
    "    \n",
    "print(f\"You final score is : {quiz.score}/12\")"
   ]
  }
 ],
 "metadata": {
  "kernelspec": {
   "display_name": "Python 3 (ipykernel)",
   "language": "python",
   "name": "python3"
  },
  "language_info": {
   "codemirror_mode": {
    "name": "ipython",
    "version": 3
   },
   "file_extension": ".py",
   "mimetype": "text/x-python",
   "name": "python",
   "nbconvert_exporter": "python",
   "pygments_lexer": "ipython3",
   "version": "3.9.12"
  }
 },
 "nbformat": 4,
 "nbformat_minor": 5
}
