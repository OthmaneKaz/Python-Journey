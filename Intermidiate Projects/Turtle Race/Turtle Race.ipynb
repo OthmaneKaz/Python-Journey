{
 "cells": [
  {
   "cell_type": "code",
   "execution_count": 2,
   "id": "896e270a",
   "metadata": {
    "scrolled": true
   },
   "outputs": [
    {
     "name": "stdout",
     "output_type": "stream",
     "text": [
      "You Lost!, yellow Won\n"
     ]
    }
   ],
   "source": [
    "from turtle import Turtle, Screen\n",
    "import random\n",
    "\n",
    "screen = Screen()\n",
    "width, height = 500, 400\n",
    "screen.setup(width, height)\n",
    "bet = screen.textinput(title=\"Make Your Bet!\", prompt=\"Which turtle will win the race? Enter a color :\")\n",
    "colors = [\"red\",\"orange\",\"yellow\",\"green\",\"blue\",\"purple\"]\n",
    "y_positions = [-125, -75, -25, 25, 75, 125]\n",
    "turtles_list = []\n",
    "\n",
    "for turtle_index in range(6):\n",
    "    new_turtle = Turtle(shape=\"turtle\")\n",
    "    new_turtle.color(colors[turtle_index])\n",
    "    new_turtle.penup()\n",
    "    new_turtle.goto(x=-230,y= y_positions[turtle_index])\n",
    "    turtles_list.append(new_turtle)\n",
    "\n",
    "if bet:\n",
    "    state = True\n",
    "\n",
    "while state:\n",
    "    \n",
    "    for turtle in turtles_list:\n",
    "        if turtle.xcor() > 230:\n",
    "            state = False\n",
    "            winner = turtle.pencolor()\n",
    "            if winner == bet:\n",
    "                print(\"You Won!\")\n",
    "            else:\n",
    "                print(f\"You Lost!, {winner} Won\")\n",
    "        \n",
    "        rand_distance = random.randint(0,10)\n",
    "        turtle.forward(rand_distance)\n",
    "        \n",
    "    \n",
    "    \n",
    "screen.exitonclick()"
   ]
  }
 ],
 "metadata": {
  "kernelspec": {
   "display_name": "Python 3 (ipykernel)",
   "language": "python",
   "name": "python3"
  },
  "language_info": {
   "codemirror_mode": {
    "name": "ipython",
    "version": 3
   },
   "file_extension": ".py",
   "mimetype": "text/x-python",
   "name": "python",
   "nbconvert_exporter": "python",
   "pygments_lexer": "ipython3",
   "version": "3.9.12"
  }
 },
 "nbformat": 4,
 "nbformat_minor": 5
}
