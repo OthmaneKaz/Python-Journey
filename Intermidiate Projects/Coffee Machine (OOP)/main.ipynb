{
 "cells": [
  {
   "cell_type": "code",
   "execution_count": 1,
   "id": "fef0fdf7",
   "metadata": {},
   "outputs": [],
   "source": [
    "\"\"\"Import Classes\"\"\"\n",
    "from menu import Menu, MenuItem\n",
    "from coffee_maker import CoffeeMaker\n",
    "from money_machine import MoneyMachine"
   ]
  },
  {
   "cell_type": "code",
   "execution_count": null,
   "id": "31685279",
   "metadata": {},
   "outputs": [],
   "source": [
    "\"\"\"Objects\"\"\"\n",
    "money_machine = MoneyMachine()\n",
    "coffee_maker = CoffeeMaker()\n",
    "menu = Menu()\n",
    "\n",
    "\"\"\"main loop\"\"\"\n",
    "state = True\n",
    "while state:\n",
    "    options = menu.get_items()\n",
    "    choice = input(f\"what would you like? {options} :\")\n",
    "    if choice == \"off\":\n",
    "        state = False\n",
    "    elif choice == \"report\":\n",
    "        money_machine.report()\n",
    "        coffee_maker.report()\n",
    "    else:\n",
    "        drink = menu.find_drink(choice)\n",
    "        if coffee_maker.is_resource_sufficient(drink) and money_machine.make_payment(drink.cost):\n",
    "            coffee_maker.make_coffee(drink)"
   ]
  }
 ],
 "metadata": {
  "kernelspec": {
   "display_name": "Python 3 (ipykernel)",
   "language": "python",
   "name": "python3"
  },
  "language_info": {
   "codemirror_mode": {
    "name": "ipython",
    "version": 3
   },
   "file_extension": ".py",
   "mimetype": "text/x-python",
   "name": "python",
   "nbconvert_exporter": "python",
   "pygments_lexer": "ipython3",
   "version": "3.9.12"
  }
 },
 "nbformat": 4,
 "nbformat_minor": 5
}
