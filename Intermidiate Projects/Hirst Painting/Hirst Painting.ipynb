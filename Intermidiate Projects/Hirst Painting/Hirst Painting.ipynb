{
 "cells": [
  {
   "cell_type": "code",
   "execution_count": 1,
   "id": "16da18ab",
   "metadata": {},
   "outputs": [],
   "source": [
    "import turtle as tr\n",
    "import random\n",
    "\n",
    "rgb_colors = [(202, 164, 110), (240, 245, 241), (236, 239, 243), (149, 75, 50), (222, 201, 136), (53, 93, 123), (170, 154, 41), (138, 31, 20), (134, 163, 184), (197, 92, 73), (47, 121, 86), (73, 43, 35), (145, 178, 149), (14, 98, 70), (232, 176, 165), (160, 142, 158), (54, 45, 50), (101, 75, 77), (183, 205, 171), (36, 60, 74), (19, 86, 89), (82, 148, 129), (147, 17, 19), (27, 68, 102), (12, 70, 64), (107, 127, 153), (176, 192, 208),(168, 99, 102)]\n",
    "\n",
    "tr.colormode(255)\n",
    "tim = tr.Turtle()\n",
    "tim.speed(\"fastest\")\n",
    "tim.penup()\n",
    "tim.hideturtle()\n",
    "number_of_dots = 100\n",
    "\n",
    "tim.setheading(210)\n",
    "tim.forward(250)\n",
    "tim.setheading(0)\n",
    "\n",
    "for i in range(1, number_of_dots+1):\n",
    "    tim.dot(20, random.choice(rgb_colors))\n",
    "    tim.forward(50)\n",
    "    \n",
    "    if i % 10 == 0:\n",
    "        tim.setheading(90)\n",
    "        tim.forward(50)\n",
    "        tim.setheading(180)\n",
    "        tim.forward(500)\n",
    "        tim.setheading(0)\n",
    "    \n",
    "\n",
    "\n",
    "\n",
    "screen = tr.Screen()\n",
    "screen.exitonclick()"
   ]
  },
  {
   "cell_type": "code",
   "execution_count": null,
   "id": "a50d58b6",
   "metadata": {},
   "outputs": [],
   "source": []
  }
 ],
 "metadata": {
  "kernelspec": {
   "display_name": "Python 3 (ipykernel)",
   "language": "python",
   "name": "python3"
  },
  "language_info": {
   "codemirror_mode": {
    "name": "ipython",
    "version": 3
   },
   "file_extension": ".py",
   "mimetype": "text/x-python",
   "name": "python",
   "nbconvert_exporter": "python",
   "pygments_lexer": "ipython3",
   "version": "3.9.12"
  }
 },
 "nbformat": 4,
 "nbformat_minor": 5
}
