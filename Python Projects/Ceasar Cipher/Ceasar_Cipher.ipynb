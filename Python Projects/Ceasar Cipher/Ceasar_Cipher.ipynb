{
 "cells": [
  {
   "cell_type": "code",
   "execution_count": 22,
   "id": "1399b752",
   "metadata": {},
   "outputs": [
    {
     "name": "stdout",
     "output_type": "stream",
     "text": [
      "If you want to encode a message write encode, if you want to decode it write decode :decode\n",
      "Type your message :lipps\n",
      "Type the shift number :4\n",
      "hello [104, 101, 108, 108, 111]\n",
      "to continue using the app enter yes, if not enter no :no\n"
     ]
    }
   ],
   "source": [
    "state = True\n",
    "while state:\n",
    "    workmode = input(\"If you want to encode a message write encode, if you want to decode it write decode :\").lower()\n",
    "    message = input(\"Type your message :\").lower()\n",
    "    shift = int(input(\"Type the shift number :\"))\n",
    "    \n",
    "    def encodemsg(msg, shift):\n",
    "        encodedmsg = \"\"           \n",
    "        shiftedascii = []\n",
    "        for i in msg:\n",
    "            if ord(i)+shift <= (122-shift):\n",
    "                shiftedascii.append(ord(i)+shift)\n",
    "            else:\n",
    "                shiftedascii.append(ord(i)+shift-26)\n",
    "        for i in shiftedascii:\n",
    "            encodedmsg += chr(i)\n",
    "        print(encodedmsg)\n",
    "    \n",
    "    def decodemsg(msg, shift):\n",
    "        decodedmsg = \"\"\n",
    "        unshiftedascii = []\n",
    "        for i in msg:\n",
    "            if ord(i)-shift >= 97:\n",
    "                unshiftedascii.append(ord(i)-shift)\n",
    "            else:\n",
    "                unshiftedascii.append(ord(i)-shift+26)\n",
    "        for i in unshiftedascii:\n",
    "            decodedmsg += chr(i)\n",
    "        print(decodedmsg)\n",
    "    \n",
    "    if workmode == 'encode':\n",
    "        encodemsg(message, shift)\n",
    "    if workmode == 'decode':\n",
    "        decodemsg(message, shift)\n",
    "    \n",
    "    continuestate = input(\"to continue using the app enter yes, if not enter no :\")\n",
    "    if continuestate == 'no':\n",
    "        state = False"
   ]
  },
  {
   "cell_type": "code",
   "execution_count": null,
   "id": "c8fc512a",
   "metadata": {},
   "outputs": [],
   "source": []
  },
  {
   "cell_type": "code",
   "execution_count": null,
   "id": "2555cf1c",
   "metadata": {},
   "outputs": [],
   "source": []
  }
 ],
 "metadata": {
  "kernelspec": {
   "display_name": "Python 3 (ipykernel)",
   "language": "python",
   "name": "python3"
  },
  "language_info": {
   "codemirror_mode": {
    "name": "ipython",
    "version": 3
   },
   "file_extension": ".py",
   "mimetype": "text/x-python",
   "name": "python",
   "nbconvert_exporter": "python",
   "pygments_lexer": "ipython3",
   "version": "3.9.12"
  }
 },
 "nbformat": 4,
 "nbformat_minor": 5
}
